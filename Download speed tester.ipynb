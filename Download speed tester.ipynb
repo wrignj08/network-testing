{
 "cells": [
  {
   "cell_type": "code",
   "execution_count": 1,
   "id": "331aa72f",
   "metadata": {},
   "outputs": [],
   "source": [
    "import speedtest\n",
    "import time\n",
    "from datetime import datetime\n",
    "import pandas as pd\n",
    "import seaborn as sns\n",
    "import matplotlib.pyplot as plt\n",
    "from IPython.display import clear_output"
   ]
  },
  {
   "cell_type": "code",
   "execution_count": 2,
   "id": "04d97733",
   "metadata": {},
   "outputs": [],
   "source": [
    "servers = [3254]"
   ]
  },
  {
   "cell_type": "code",
   "execution_count": 3,
   "id": "c11cbd77",
   "metadata": {},
   "outputs": [],
   "source": [
    "speed_log = []"
   ]
  },
  {
   "cell_type": "code",
   "execution_count": null,
   "id": "0262a162",
   "metadata": {},
   "outputs": [],
   "source": [
    "while True:\n",
    "    time.sleep(30)\n",
    "    cur_time = datetime.now()\n",
    "    timestamp = cur_time.timestamp()\n",
    "    try:\n",
    "        s = speedtest.Speedtest()\n",
    "    #     s.get_servers(servers)\n",
    "        s.get_best_server()\n",
    "        s.download(threads=None)\n",
    "        s.upload(threads=None)\n",
    "        s.results.share()\n",
    "        results_dict = s.results.dict()\n",
    "    \n",
    "    except:\n",
    "        print('test failed, retrying...')\n",
    "        \n",
    "    dl_speed = results_dict['download']/1000000\n",
    "    ul_speed = results_dict['upload']/1000000\n",
    "    \n",
    "    speed_log.append({'timestamp':timestamp,'time':cur_time,'dl_speed':dl_speed, 'ul_speed':ul_speed})\n",
    "    \n",
    "    df = pd.DataFrame(speed_log)\n",
    "    sns.set(rc={'figure.figsize':(19, 4)})\n",
    "#     df['dl_speed'].plot(linewidth=0.5)\n",
    "    df.drop(df.columns.difference(['dl_speed','ul_speed']), 1).plot()\n",
    "    clear_output(wait=True)\n",
    "    plt.show()"
   ]
  },
  {
   "cell_type": "code",
   "execution_count": 7,
   "id": "436308f7",
   "metadata": {},
   "outputs": [
    {
     "data": {
      "text/plain": [
       "{'download': 39389345.23958342,\n",
       " 'upload': 7777022.786320441,\n",
       " 'ping': 16.533,\n",
       " 'server': {'url': 'http://speedtest-pth.vocus.net:8080/speedtest/upload.php',\n",
       "  'lat': '-31.9554',\n",
       "  'lon': '115.8585',\n",
       "  'name': 'Perth',\n",
       "  'country': 'Australia',\n",
       "  'cc': 'AU',\n",
       "  'sponsor': 'Vocus Communications',\n",
       "  'id': '18249',\n",
       "  'host': 'speedtest-pth.vocus.net:8080',\n",
       "  'd': 1.3768809835076172,\n",
       "  'latency': 16.533},\n",
       " 'timestamp': '2021-05-06T13:27:17.418408Z',\n",
       " 'bytes_sent': 10469376,\n",
       " 'bytes_received': 49524276,\n",
       " 'share': 'http://www.speedtest.net/result/11377664613.png',\n",
       " 'client': {'ip': '180.150.80.36',\n",
       "  'lat': '-31.9674',\n",
       "  'lon': '115.8621',\n",
       "  'isp': 'Aussie Broadband',\n",
       "  'isprating': '3.7',\n",
       "  'rating': '0',\n",
       "  'ispdlavg': '0',\n",
       "  'ispulavg': '0',\n",
       "  'loggedin': '0',\n",
       "  'country': 'AU'}}"
      ]
     },
     "execution_count": 7,
     "metadata": {},
     "output_type": "execute_result"
    }
   ],
   "source": [
    "results_dict"
   ]
  },
  {
   "cell_type": "code",
   "execution_count": null,
   "id": "c198c8cf",
   "metadata": {},
   "outputs": [],
   "source": []
  }
 ],
 "metadata": {
  "kernelspec": {
   "display_name": "Python 3",
   "language": "python",
   "name": "python3"
  },
  "language_info": {
   "codemirror_mode": {
    "name": "ipython",
    "version": 3
   },
   "file_extension": ".py",
   "mimetype": "text/x-python",
   "name": "python",
   "nbconvert_exporter": "python",
   "pygments_lexer": "ipython3",
   "version": "3.8.8"
  }
 },
 "nbformat": 4,
 "nbformat_minor": 5
}
